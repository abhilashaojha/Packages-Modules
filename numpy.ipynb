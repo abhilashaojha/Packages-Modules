{
 "cells": [
  {
   "cell_type": "markdown",
   "metadata": {},
   "source": [
    "## Lets discuss **NumPy Package** in Python:\n",
    "\n",
    "* NumPy package is an acronynm for **'Numeric Python'**. \n",
    "\n",
    "* It was created by Travis Oliphant in 2005.\n",
    "\n",
    "Fundamental objective:\n",
    "\n",
    "    It is majorly used to create Homogeneous Multi-dimensional array.\n",
    "\n",
    "    It has an associated fast math functions that operate on it.\n",
    "    \n",
    "    It also provides simple routines for linear algebra and FFT (Fast Fourier Transform) and sophisticated random-number generation."
   ]
  },
  {
   "cell_type": "code",
   "execution_count": 2,
   "metadata": {},
   "outputs": [
    {
     "name": "stdout",
     "output_type": "stream",
     "text": [
      "[1 2 3]\n"
     ]
    }
   ],
   "source": [
    "#importing numpy package\n",
    "import numpy as np\n",
    "a=np.array([1,2,3]) #forming an array with 3 elements using array function in numpy\n",
    "print(a)"
   ]
  },
  {
   "cell_type": "markdown",
   "metadata": {},
   "source": [
    "**Creating 2D arrays:**"
   ]
  },
  {
   "cell_type": "code",
   "execution_count": 3,
   "metadata": {},
   "outputs": [
    {
     "name": "stdout",
     "output_type": "stream",
     "text": [
      "The array x= [[1 2 3]\n",
      " [4 5 6]]\n",
      "Array x1 = [[1 2 3 4 5]]\n"
     ]
    }
   ],
   "source": [
    "x=np.array([[1,2,3],[4,5,6]])\n",
    "print(\"The array x=\",x)\n",
    "x1=np.array([1,2,3,4,5],ndmin=2)\n",
    "print(\"Array x1 =\",x1)"
   ]
  },
  {
   "cell_type": "markdown",
   "metadata": {},
   "source": [
    "### *By observing these two arrays, a question comes to mind: **Are the arrays 'x' and 'x1' both 2 dimensional?***\n",
    "\n",
    "* Yes, both 'x' and 'x1' is 2 dimensional. Here's why,\n",
    "\n",
    "* In order to check the dimensionality of the array, we will use 'shape' or 'ndim' property. \n",
    "\n",
    "* **Shape Property:** Gives the dimension in the form of tuple (n,m) where \n",
    "                    n= number of rows and m=number of columns\n",
    "                    \n",
    "* **ndim property:** Gives the dimension of the array in the form of integer.\n",
    "\n",
    "Let's do it! "
   ]
  },
  {
   "cell_type": "code",
   "execution_count": 4,
   "metadata": {},
   "outputs": [
    {
     "name": "stdout",
     "output_type": "stream",
     "text": [
      "(2, 3)\n",
      "(1, 5)\n"
     ]
    },
    {
     "data": {
      "text/plain": [
       "2"
      ]
     },
     "execution_count": 4,
     "metadata": {},
     "output_type": "execute_result"
    }
   ],
   "source": [
    "print(x.shape)\n",
    "print(x1.shape) \n",
    "x.ndim "
   ]
  },
  {
   "cell_type": "markdown",
   "metadata": {},
   "source": [
    "### *Using **'reshape(n,m)'** function:*\n",
    "\n",
    "It is used to reshape/reverse the dimension of the array. It takes the elements of the array serially converting it to the reverse array. \n",
    "\n",
    "Here's how we use it."
   ]
  },
  {
   "cell_type": "code",
   "execution_count": 6,
   "metadata": {},
   "outputs": [
    {
     "name": "stdout",
     "output_type": "stream",
     "text": [
      "Dimesnion of the array 'x' after reshaping =  (3, 2)\n"
     ]
    }
   ],
   "source": [
    "# using reshape function on 'x' and storing it in variable 'x2'.\n",
    "x2=x.reshape(3,2)\n",
    "print(\"Dimesnion of the array 'x' after reshaping = \",x2.shape)"
   ]
  },
  {
   "cell_type": "markdown",
   "metadata": {},
   "source": [
    "### *Using **'transpose()'** function:*\n",
    "\n",
    "'transpose()' is used to transpose the dimension of the array.\n",
    "For e.g, if we have an array 'y' with dimension (2,3), then using transpose function we can reverse the dimension to (3,2).\n",
    "\n",
    "Here's how we do it."
   ]
  },
  {
   "cell_type": "code",
   "execution_count": 7,
   "metadata": {},
   "outputs": [
    {
     "name": "stdout",
     "output_type": "stream",
     "text": [
      "Dimension of 'y'=  (2, 3)\n",
      "Dimension of y after transposing = (3, 2)\n"
     ]
    }
   ],
   "source": [
    "y=np.array([[1,2,3],[2,2,3]]) #creating an array 'y'\n",
    "print(\"Dimension of 'y'= \",y.shape) #checking the dimension of the array y\n",
    "y1=y.transpose() #using transpose function to reverse the dimension and storing it in the variable y1.\n",
    "print(\"Dimension of y after transposing =\",y1.shape) #printing the dimension of 'y1'."
   ]
  },
  {
   "cell_type": "markdown",
   "metadata": {},
   "source": [
    "### *Lets do **mathematical operations** on arrays/matrices:*\n",
    "* We have stored the addition of matrices 'x' and 'y' in 'add' variable\n",
    "* We have stored the multiplication (dot product) of 'x' and 'y1' in the 'mult' variable."
   ]
  },
  {
   "cell_type": "code",
   "execution_count": 15,
   "metadata": {},
   "outputs": [
    {
     "name": "stdout",
     "output_type": "stream",
     "text": [
      "x + y = \n",
      " [[2 4 6]\n",
      " [6 7 9]]\n"
     ]
    }
   ],
   "source": [
    "add=x + y\n",
    "print(\"x + y = \\n\",add)"
   ]
  },
  {
   "cell_type": "code",
   "execution_count": 14,
   "metadata": {},
   "outputs": [
    {
     "name": "stdout",
     "output_type": "stream",
     "text": [
      "Multiplication of 'x' and 'y1' = \n",
      " [[14 15]\n",
      " [32 36]]\n"
     ]
    }
   ],
   "source": [
    "#For multiplication, the number of columns of first array = number of rows of the second array. \n",
    "# So, we will use 'y1' (the transposed array) as the second array.\n",
    "mult = x.dot(y1)\n",
    "print(\"Multiplication of 'x' and 'y1' = \\n\",mult)"
   ]
  },
  {
   "cell_type": "markdown",
   "metadata": {},
   "source": [
    "### *Using Trigonometrical functions on above defined arrays/matrices:*"
   ]
  },
  {
   "cell_type": "code",
   "execution_count": 19,
   "metadata": {},
   "outputs": [
    {
     "name": "stdout",
     "output_type": "stream",
     "text": [
      "sin of (x.y) = \n",
      " [[ 0.99060736  0.65028784]\n",
      " [ 0.55142668 -0.99177885]] \n",
      "cos of (x.y) = \n",
      " [[ 0.13673722 -0.75968791]\n",
      " [ 0.83422336 -0.12796369]]\n"
     ]
    }
   ],
   "source": [
    "sin=np.sin(mult)\n",
    "cos=np.cos(mult)\n",
    "print(\"sin of (x.y) = \\n\",sin,\"\\ncos of (x.y) = \\n\",cos)"
   ]
  },
  {
   "cell_type": "markdown",
   "metadata": {},
   "source": [
    "We know,\n",
    "$$ \\sin^2{\\theta} + cos^2{\\theta} = 1 $$\n",
    "\n",
    "This is exactly whats been done below by taking $$ \\theta = x.y1 $$"
   ]
  },
  {
   "cell_type": "code",
   "execution_count": 22,
   "metadata": {},
   "outputs": [
    {
     "name": "stdout",
     "output_type": "stream",
     "text": [
      "sin^2(x.y1) + cos^2(x.y1) = \n",
      " [[1. 1.]\n",
      " [1. 1.]]\n"
     ]
    }
   ],
   "source": [
    "res=sin**2 + cos**2\n",
    "print(\"sin^2(x.y1) + cos^2(x.y1) = \\n\",res)"
   ]
  },
  {
   "cell_type": "markdown",
   "metadata": {},
   "source": [
    "* Now, what if we dont want the dot(.) at the end of every element in the above matrix. \n",
    "* The simplest solution will be to convert the data type of the array to integer which can be done using 'astype' function. \n",
    "\n",
    "Here's how its done."
   ]
  },
  {
   "cell_type": "code",
   "execution_count": 26,
   "metadata": {},
   "outputs": [
    {
     "data": {
      "text/plain": [
       "array([[1, 1],\n",
       "       [1, 1]])"
      ]
     },
     "execution_count": 26,
     "metadata": {},
     "output_type": "execute_result"
    }
   ],
   "source": [
    "res=res.astype(int)"
   ]
  },
  {
   "cell_type": "markdown",
   "metadata": {},
   "source": [
    "#### **Greattttt!!!!!!!**\n",
    "So far, so good."
   ]
  },
  {
   "cell_type": "markdown",
   "metadata": {},
   "source": [
    "What if we want to find the sum of the elements of the array?\n",
    "\n",
    "What if we want to find the minimum value among the elements in the array?\n",
    "\n",
    "Creating zero matrix of order 1 and order (4,5)\n",
    "\n",
    "Creating unit matrix"
   ]
  },
  {
   "cell_type": "markdown",
   "metadata": {},
   "source": [
    "Creating an array 'b' with 30 numbers, serially from 1 to 30, taking dimension (3,10) which suggests 3 rows having 10 columns. "
   ]
  },
  {
   "cell_type": "code",
   "execution_count": 29,
   "metadata": {},
   "outputs": [
    {
     "name": "stdout",
     "output_type": "stream",
     "text": [
      "[[ 0  1  2  3  4  5  6  7  8  9]\n",
      " [10 11 12 13 14 15 16 17 18 19]\n",
      " [20 21 22 23 24 25 26 27 28 29]]\n"
     ]
    }
   ],
   "source": [
    "b=np.arange(30).reshape(3,10)\n",
    "print(b)"
   ]
  },
  {
   "cell_type": "code",
   "execution_count": null,
   "metadata": {},
   "outputs": [],
   "source": []
  }
 ],
 "metadata": {
  "kernelspec": {
   "display_name": "Python 3.9.0 64-bit",
   "language": "python",
   "name": "python3"
  },
  "language_info": {
   "codemirror_mode": {
    "name": "ipython",
    "version": 3
   },
   "file_extension": ".py",
   "mimetype": "text/x-python",
   "name": "python",
   "nbconvert_exporter": "python",
   "pygments_lexer": "ipython3",
   "version": "3.9.0"
  },
  "orig_nbformat": 4,
  "vscode": {
   "interpreter": {
    "hash": "d22032a167c0ee2ffa5f8defa2e72c3f9c2cb16fc51751d274c89d3e0a00993f"
   }
  }
 },
 "nbformat": 4,
 "nbformat_minor": 2
}
