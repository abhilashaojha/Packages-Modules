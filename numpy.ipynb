{
 "cells": [
  {
   "cell_type": "markdown",
   "metadata": {},
   "source": [
    "### <span style=\"font-family: 'Segoe Print';\">**NUMPY PACKGE** IN PYTHON:\n",
    "***\n",
    "\n",
    "<span style=\"font-family: 'Segoe UI';\">\n",
    "\n",
    "* NumPy package is an acronynm for **'Numeric Python'**. \n",
    "\n",
    "* It was created by Travis Oliphant in 2005.\n",
    "\n",
    "**Fundamental objective:**\n",
    "\n",
    "> It is majorly used to create Homogeneous Multi-dimensional array.\n",
    "\n",
    "> It has an associated fast math functions that operate on it.\n",
    "\n",
    "> It also provides simple routines for linear algebra and FFT (Fast Fourier Transform) and sophisticated random-number generation. "
   ]
  },
  {
   "cell_type": "markdown",
   "metadata": {},
   "source": [
    "#### **<span style=\"font-family: 'Segoe Print';\">I. Creating an Array:**\n",
    "\n",
    "#### <span style=\"font-family: 'Segoe Print';\">Arrays:\n",
    "\n",
    "* An array is a collection of items stored at contiguous memory locations. \n",
    "* Arrays store homogeneous elements, i.e, elements belonging to same data type. \n",
    "* Elements can be randomly accessed using indices of an array."
   ]
  },
  {
   "cell_type": "code",
   "execution_count": 6,
   "metadata": {},
   "outputs": [
    {
     "name": "stdout",
     "output_type": "stream",
     "text": [
      "a =  [1 2 3]\n",
      "a[0] =  1 \n",
      "a[2] =  3\n"
     ]
    }
   ],
   "source": [
    "#importing numpy package\n",
    "import numpy as np\n",
    "\n",
    "a=np.array([1,2,3]) #forming an array with 3 elements using array function in numpy\n",
    "print(\"a = \",a)\n",
    "np.array\n",
    "\n",
    "#Accessing elements using indices\n",
    "print(\"a[0] = \",a[0],\"\\na[2] = \",a[2])"
   ]
  },
  {
   "cell_type": "markdown",
   "metadata": {},
   "source": [
    "### **<span style=\"font-family: 'Segoe Print';\">II. Creating 2D arrays:**\n",
    "\n",
    "* Two dimensional array are arrays within array.\n",
    "* It is an array of arrays.\n",
    "* It can be visualised as a grid (or table) with rows and columns.\n",
    "\n",
    "Considering an array, \n",
    "\n",
    "    x = [[1 2 3]\n",
    "         [4 5 6]]\n",
    "\n",
    "* One can easily observe that x contains two sub-arrays, '[1 2 3]' & '[4 5 6]'. Hence, array of arrays makes sense. \n",
    "* 'x' contains two rows and 3 columns. \n",
    "* In the Numpy package, 'np.array()' takes few arguements,some of them are:\n",
    "\n",
    "    *object* = Array like object\n",
    "\n",
    "    *dtype* = Data type of the desired array. \n",
    "\n",
    "    *ndmin* = Minimum dimensions. "
   ]
  },
  {
   "cell_type": "code",
   "execution_count": 7,
   "metadata": {},
   "outputs": [
    {
     "name": "stdout",
     "output_type": "stream",
     "text": [
      "x =\n",
      " [[1 2 3]\n",
      " [4 5 6]]\n",
      "Array x1 = [[1 2 3 4 5]]\n"
     ]
    }
   ],
   "source": [
    "x=np.array([[1,2,3],[4,5,6]])\n",
    "print(\"x =\\n\",x)\n",
    "\n",
    "x1=np.array([1,2,3,4,5],ndmin=2) \n",
    "print(\"Array x1 =\",x1)"
   ]
  },
  {
   "cell_type": "markdown",
   "metadata": {},
   "source": [
    "### <span style=\"font-family: 'Segoe Print';\">III. By observing these two arrays, a question comes to mind: \n",
    "**<span style=\"font-family: 'Segoe Print';\">Are the arrays 'x' and 'x1' both 2 dimensional?**\n",
    "\n",
    "* Yes, both 'x' and 'x1' is 2 dimensional. Here's why,\n",
    "\n",
    "    > 'x' as declared is two dimensional, containing two sub-arrays.\n",
    "    \n",
    "    > While declaring x1, we passed an arguement, *ndmin=2* which specifies minimum dimension of the array as 2.\n",
    "\n",
    "* In order to check the dimensionality of the array, we will use 'shape' or 'ndim' property. \n",
    "\n",
    "* **Shape Property:** Gives the dimension in the form of tuple (n,m) where \n",
    "                    n= number of rows and m=number of columns\n",
    "                    \n",
    "* **ndim property:** Gives the dimension of the array in the form of integer.\n",
    "\n",
    "Let's do it! "
   ]
  },
  {
   "cell_type": "code",
   "execution_count": 8,
   "metadata": {},
   "outputs": [
    {
     "name": "stdout",
     "output_type": "stream",
     "text": [
      "Dimension of x =  (2, 3)\n",
      "Dimension of x1 =  (1, 5)\n"
     ]
    },
    {
     "data": {
      "text/plain": [
       "2"
      ]
     },
     "execution_count": 8,
     "metadata": {},
     "output_type": "execute_result"
    }
   ],
   "source": [
    "print(\"Dimension of x = \",x.shape)\n",
    "print(\"Dimension of x1 = \",x1.shape) \n",
    "x.ndim #ndim gives the dimension of the array in the form of integer."
   ]
  },
  {
   "cell_type": "markdown",
   "metadata": {},
   "source": [
    "### <span style=\"font-family: 'Segoe Print';\">IV. Using **'reshape(n,m)'** function:\n",
    "\n",
    "* It is used to reshape/reverse the dimension of the array. \n",
    "* It takes the elements of the array serially converting it to the reverse array.\n",
    "For the (2,3) dimsional array,\n",
    "        \n",
    "        x = [[1 2 3] \n",
    "            [4 5 6]]\n",
    "         \n",
    "Using ```x.reshape(3,2)``` would change the dimension the dimension of the array to (3,2). \n",
    "\n",
    "Storing the reshaped array in the varibale x2, it would look like,\n",
    " \n",
    "    x2 = [[1 2]\n",
    "          [3 4]\n",
    "          [5 6]]\n",
    "\n",
    "Here's how we use it."
   ]
  },
  {
   "cell_type": "code",
   "execution_count": 9,
   "metadata": {},
   "outputs": [
    {
     "name": "stdout",
     "output_type": "stream",
     "text": [
      "Dimesnion of the array 'x' after reshaping =  (3, 2)\n",
      "Reshaped array = \n",
      " [[1 2]\n",
      " [3 4]\n",
      " [5 6]]\n"
     ]
    }
   ],
   "source": [
    "# using reshape function on 'x' and storing it in variable 'x2'.\n",
    "x2=x.reshape(3,2)\n",
    "print(\"Dimesnion of the array 'x' after reshaping = \",x2.shape)\n",
    "print(\"Reshaped array = \\n\",x2)"
   ]
  },
  {
   "cell_type": "markdown",
   "metadata": {},
   "source": [
    "### <span style=\"font-family: 'Segoe Print';\">V. **'transpose()'** function:\n",
    "\n",
    "* 'transpose()' is used to transpose the dimension of the array.\n",
    "\n",
    "For e.g, if we have an array 'y' with dimension (2,3), then using transpose function we can reverse the dimension to (3,2).\n",
    "\n",
    "Here's how we do it."
   ]
  },
  {
   "cell_type": "code",
   "execution_count": 10,
   "metadata": {},
   "outputs": [
    {
     "name": "stdout",
     "output_type": "stream",
     "text": [
      "Dimension of 'y'=  (2, 3)\n",
      "Dimension of y after transposing = (3, 2)\n"
     ]
    }
   ],
   "source": [
    "y=np.array([[1,2,3],[2,2,3]]) #creating an array 'y'.\n",
    "print(\"Dimension of 'y'= \",y.shape) #checking the dimension of the array 'y'.\n",
    "\n",
    "y1=y.transpose() #using transpose function to reverse the dimension and storing it in the variable y1.\n",
    "print(\"Dimension of y after transposing =\",y1.shape) #printing the dimension of 'y1'."
   ]
  },
  {
   "cell_type": "markdown",
   "metadata": {},
   "source": [
    "### <span style=\"font-family: 'Segoe Print';\">VI. **Mathematical Operations** on arrays/matrices:\n",
    "\n",
    "* All the mathematical operations (addition, subtraction, mulitplication and division) have been performed in two ways, shown below in the code cell.\n",
    "* For sqaure root, in-built sqrt function in numpy has been used."
   ]
  },
  {
   "cell_type": "code",
   "execution_count": 11,
   "metadata": {},
   "outputs": [
    {
     "name": "stdout",
     "output_type": "stream",
     "text": [
      "x + y = \n",
      " [[2 4 6]\n",
      " [6 7 9]]\n",
      "Using Function:\n",
      "x + y = \n",
      " [[2 4 6]\n",
      " [6 7 9]]\n",
      "x - y = \n",
      " [[0 0 0]\n",
      " [2 3 3]]\n",
      "Using Function:\n",
      "x - y = \n",
      " [[0 0 0]\n",
      " [2 3 3]]\n",
      "x * y = \n",
      " [[ 1  4  9]\n",
      " [ 8 10 18]]\n",
      "using Function:\n",
      "x * y = \n",
      " [[ 1  4  9]\n",
      " [ 8 10 18]]\n",
      "x/y = \n",
      " [[1.  1.  1. ]\n",
      " [2.  2.5 2. ]]\n",
      "Using Function:\n",
      "x / y = \n",
      " [[1.  1.  1. ]\n",
      " [2.  2.5 2. ]]\n",
      "square root of 'x' = \n",
      " [[1.         1.41421356 1.73205081]\n",
      " [2.         2.23606798 2.44948974]]\n"
     ]
    }
   ],
   "source": [
    "add=x + y #adding x and y\n",
    "print(\"x + y = \\n\",add)\n",
    "print(\"Using Function:\\nx + y = \\n\",np.add(x,y)) #an alternative way to add x and y would be to use 'Add function'.\n",
    "\n",
    "sub=x - y #subtracting x and y\n",
    "print(\"x - y = \\n\",sub)\n",
    "print(\"Using Function:\\nx - y = \\n\",np.subtract(x,y)) #Subtracting using function\n",
    "\n",
    "mult=x*y #multiplying x and y\n",
    "print(\"x * y = \\n\",mult)\n",
    "print(\"using Function:\\nx * y = \\n\",np.multiply(x,y)) #multiplying using function\n",
    "\n",
    "div=x / y #dividing x and y\n",
    "print(\"x/y = \\n\",div)\n",
    "print(\"Using Function:\\nx / y = \\n\",np.divide(x,y)) #division using function\n",
    "\n",
    "sqrt=np.sqrt(x) \n",
    "print(\"square root of 'x' = \\n\",sqrt) #calculating square root using sqrt() function in numpy. "
   ]
  },
  {
   "cell_type": "code",
   "execution_count": 133,
   "metadata": {},
   "outputs": [
    {
     "name": "stdout",
     "output_type": "stream",
     "text": [
      "Multiplication of 'x' and 'y1' = \n",
      " [[14 15]\n",
      " [32 36]]\n"
     ]
    }
   ],
   "source": [
    "#For dot multiplication, the number of columns of first array = number of rows of the second array. \n",
    "# So, we will use 'y1' (the transposed array of 'y') as the second array.\n",
    "product = x.dot(y1)\n",
    "print(\"Multiplication of 'x' and 'y1' = \\n\",product)"
   ]
  },
  {
   "cell_type": "markdown",
   "metadata": {},
   "source": [
    "### <span style=\"font-family: 'Segoe Print';\">VII. **Trigonometrical functions** on above defined arrays/matrices:"
   ]
  },
  {
   "cell_type": "code",
   "execution_count": 134,
   "metadata": {},
   "outputs": [
    {
     "name": "stdout",
     "output_type": "stream",
     "text": [
      "sin of (x.y) = \n",
      " [[ 0.84147098 -0.7568025   0.41211849]\n",
      " [ 0.98935825 -0.54402111 -0.75098725]] \n",
      "cos of (x.y) = \n",
      " [[ 0.54030231 -0.65364362 -0.91113026]\n",
      " [-0.14550003 -0.83907153  0.66031671]]\n"
     ]
    }
   ],
   "source": [
    "sin=np.sin(mult)\n",
    "cos=np.cos(mult)\n",
    "print(\"sin of (x.y) = \\n\",sin,\"\\ncos of (x.y) = \\n\",cos)"
   ]
  },
  {
   "cell_type": "markdown",
   "metadata": {},
   "source": [
    "<span style=\"font-family: 'Segoe Print';\">We know,\n",
    "\n",
    "$$ \\sin^2{\\theta} + cos^2{\\theta} = 1 $$\n",
    "\n",
    "<span style=\"font-family: 'Segoe Print';\">This is exactly whats been done below by taking, \n",
    "$$ \\theta = x.y \n",
    "$$\n"
   ]
  },
  {
   "cell_type": "code",
   "execution_count": 135,
   "metadata": {},
   "outputs": [
    {
     "name": "stdout",
     "output_type": "stream",
     "text": [
      "sin^2(x.y) + cos^2(x.y) = \n",
      " [[1. 1. 1.]\n",
      " [1. 1. 1.]]\n"
     ]
    }
   ],
   "source": [
    "res=sin**2 + cos**2\n",
    "print(\"sin^2(x.y) + cos^2(x.y) = \\n\",res)"
   ]
  },
  {
   "cell_type": "markdown",
   "metadata": {},
   "source": [
    "* Now, what if we dont want the dot(.) at the end of every element in the above matrix. \n",
    "* The simplest solution will be to convert the data type of the array to integer which can be done using 'astype' function. \n",
    "\n",
    "    Here's how its done."
   ]
  },
  {
   "cell_type": "code",
   "execution_count": 136,
   "metadata": {},
   "outputs": [
    {
     "name": "stdout",
     "output_type": "stream",
     "text": [
      "[[1 1 0]\n",
      " [1 1 1]]\n"
     ]
    }
   ],
   "source": [
    "res=res.astype(int)\n",
    "print(res)"
   ]
  },
  {
   "cell_type": "markdown",
   "metadata": {},
   "source": [
    "#### <span style=\"font-family: 'Segoe Print';\">**Greattttt!!!!!!! So far, so good.**\n",
    "\n",
    "### <span style=\"font-family: 'Segoe Print';\">VIII. Slicing in **Arrays**:\n",
    "\n",
    "        p = [1 2 3 4 5 6]\n",
    "        x = [[1 2 3]\n",
    "             [4 5 6]]"
   ]
  },
  {
   "cell_type": "code",
   "execution_count": 137,
   "metadata": {},
   "outputs": [
    {
     "name": "stdout",
     "output_type": "stream",
     "text": [
      "Slicing in 'p'[1:5] =  [2 3 4 5]\n",
      "Slicing in 'p'[:2:3] = [1]\n",
      "x= [[1 2 3]\n",
      " [4 5 6]]\n",
      "2\n",
      "Slicing of 'x'[:2,1:3] =  [[2 3]\n",
      " [5 6]]\n"
     ]
    }
   ],
   "source": [
    "p=np.array((1,2,3,4,5,6))\n",
    "\n",
    "s1=p[1:5] #slicing to pull out a sub-array that contains elements from index 1 to 4th.\n",
    "print(\"Slicing in 'p'[1:5] = \",s1) #printing the array s1\n",
    "\n",
    "s2=p[:2:3] #slicing the element \n",
    "print(\"Slicing in 'p'[:2:3] =\",s2)\n",
    "\n",
    "\n",
    "#Considering the 2D array x (declared above)\n",
    "print(\"x=\",x)\n",
    "print(x[0,1])\n",
    "\n",
    "s3=x[:2,1:3] #slicing to pull out a sub-array consisting of first 2 rows and columns 1 and 2\n",
    "print(\"Slicing of 'x'[:2,1:3] = \",s3)"
   ]
  },
  {
   "cell_type": "code",
   "execution_count": 138,
   "metadata": {},
   "outputs": [
    {
     "name": "stdout",
     "output_type": "stream",
     "text": [
      "[1 2 3] (3,)\n",
      "[4 5 6] (3,)\n",
      "[[4 5 6]] (1, 3)\n"
     ]
    }
   ],
   "source": [
    "row_0=x[0,:]\n",
    "print(row_0,row_0.shape) #prints first row of 'x' along with the dimension (3,)\n",
    "\n",
    "row_1=x[1,:]\n",
    "print(row_1,row_1.shape) #prints second row of 'x' along with dimension (3,)\n",
    "\n",
    "row_2=x[1:2,:]\n",
    "print(row_2,row_2.shape) #prints second row with dimension (1,3)\n"
   ]
  },
  {
   "cell_type": "code",
   "execution_count": 139,
   "metadata": {},
   "outputs": [
    {
     "name": "stdout",
     "output_type": "stream",
     "text": [
      "[1 4] (2,)\n",
      "[2 5] (2,)\n",
      "[[2]\n",
      " [5]] (2, 1)\n"
     ]
    }
   ],
   "source": [
    "#Accessing columns through slicing\n",
    "col_0=x[:,0]\n",
    "print(col_0,col_0.shape) #prints column 1 with dimension (2,)\n",
    "\n",
    "col_1=x[:,1]\n",
    "print(col_1,col_1.shape) #prints column 2 with dimension (2,)\n",
    "\n",
    "col_2=x[:,1:2]\n",
    "print(col_2,col_2.shape) #prints the second column with dimension (2,1)"
   ]
  },
  {
   "cell_type": "markdown",
   "metadata": {},
   "source": [
    "##### <span style=\"font-family: 'Segoe Print';\">VIII. I was having some random questions related to arrays, in general.\n",
    "\n",
    "> ##### *Lets look at the questions and answers one by one. Shall we?*"
   ]
  },
  {
   "cell_type": "markdown",
   "metadata": {},
   "source": [
    "#### **Q.1] What if we want to find the sum of the elements of the array?**\n",
    "\n",
    "Considering the matrix x,\n",
    "\n",
    "    x =  [1   2   3]  \n",
    "         [4   5   6]\n",
    "\n",
    "sum = 21\n",
    "\n",
    "We will be using 'sum()' to find the sum of the elements in the 2D array 'x'."
   ]
  },
  {
   "cell_type": "code",
   "execution_count": 140,
   "metadata": {},
   "outputs": [
    {
     "name": "stdout",
     "output_type": "stream",
     "text": [
      "21\n"
     ]
    }
   ],
   "source": [
    "sum=np.sum(x)\n",
    "print(sum)"
   ]
  },
  {
   "cell_type": "markdown",
   "metadata": {},
   "source": [
    "#### **Q.2] What if we want to find the minimum value among the elements in the array 'x'?**"
   ]
  },
  {
   "cell_type": "code",
   "execution_count": 141,
   "metadata": {},
   "outputs": [
    {
     "name": "stdout",
     "output_type": "stream",
     "text": [
      "1\n"
     ]
    }
   ],
   "source": [
    "min=np.min(x)\n",
    "print(min)"
   ]
  },
  {
   "cell_type": "markdown",
   "metadata": {},
   "source": [
    "#### **Q.3] What if we want to create zero matrix of order 2*2?**"
   ]
  },
  {
   "cell_type": "code",
   "execution_count": 142,
   "metadata": {},
   "outputs": [
    {
     "name": "stdout",
     "output_type": "stream",
     "text": [
      "[[0 0]\n",
      " [0 0]]\n"
     ]
    }
   ],
   "source": [
    "zero_matrix=np.zeros((2,2),dtype=int)\n",
    "print(zero_matrix)"
   ]
  },
  {
   "cell_type": "markdown",
   "metadata": {},
   "source": [
    "#### **Q.4] What if we want to create a square matrix with just ones(1)?**"
   ]
  },
  {
   "cell_type": "code",
   "execution_count": 143,
   "metadata": {},
   "outputs": [
    {
     "name": "stdout",
     "output_type": "stream",
     "text": [
      "[[1 1]\n",
      " [1 1]]\n"
     ]
    }
   ],
   "source": [
    "one_matrix=np.ones((2,2),dtype=int)\n",
    "print(one_matrix)"
   ]
  },
  {
   "cell_type": "markdown",
   "metadata": {},
   "source": [
    "#### **Q.5] What if we want to create a unit matrix of order 2*2?**"
   ]
  },
  {
   "cell_type": "code",
   "execution_count": 144,
   "metadata": {},
   "outputs": [
    {
     "name": "stdout",
     "output_type": "stream",
     "text": [
      "[[1 0]\n",
      " [0 1]]\n"
     ]
    }
   ],
   "source": [
    "unit_matrix=np.eye(2,dtype=int)\n",
    "print(unit_matrix)"
   ]
  },
  {
   "cell_type": "markdown",
   "metadata": {},
   "source": [
    "#### **Q.6] What if we want to create a matrix with any constant number? other than one(1)?**"
   ]
  },
  {
   "cell_type": "code",
   "execution_count": 145,
   "metadata": {},
   "outputs": [
    {
     "name": "stdout",
     "output_type": "stream",
     "text": [
      "[[7.64 7.64]\n",
      " [7.64 7.64]]\n"
     ]
    }
   ],
   "source": [
    "const=np.full((2,2),7.64)\n",
    "print(const)"
   ]
  },
  {
   "cell_type": "markdown",
   "metadata": {},
   "source": [
    "#### **Q.7] What if we want to create a matrix with random numbers?**\n",
    "\n",
    "- We use 'random' function from Random module to generate random numbers in an array \n",
    "- In case we want random array of integers, we would use 'randint (low, high, size)' function which takes 3 arguements:\n",
    "\n",
    "    *low*=Lowest value\n",
    "\n",
    "    *high*=highest value\n",
    "    \n",
    "    *size*=size of the array"
   ]
  },
  {
   "cell_type": "code",
   "execution_count": 146,
   "metadata": {},
   "outputs": [
    {
     "name": "stdout",
     "output_type": "stream",
     "text": [
      "Random 2D array of numbers = \n",
      " [[0.16110683 0.24764877]\n",
      " [0.86656536 0.22148099]]\n",
      "Random array of integers = \n",
      " [339 426 110 365 271 189 250 245 322 380 226 448 100 154 269 117 400 297\n",
      " 366 379 115 288 390 473 340 310 324 240 154 310 188 263 118 284 353 433\n",
      " 123 441 368 150 193 248 197 476 341 139 230 201 277 135]\n"
     ]
    }
   ],
   "source": [
    "random=np.random.random((2,2))\n",
    "print(\"Random 2D array of numbers = \\n\",random)\n",
    "\n",
    "random1=np.random.randint(100,500,50)\n",
    "print(\"Random array of integers = \\n\",random1)"
   ]
  },
  {
   "cell_type": "markdown",
   "metadata": {},
   "source": [
    "##### <span style=\"font-family: 'Segoe Print';\">IX. Creating a random array 'b' with 30 numbers, serially from 1 to 30, taking dimension (3,10) which suggests 3 rows having 10 columns.\n",
    "\n",
    "- We are creating the array using 'np.arange()' function which takes 4 argurments, namely: \n",
    "\n",
    "    - start = The starting point/number of the array.\n",
    "    - stop = the end point/number of the array.\n",
    "    - dtype = Desired data type of the array.\n",
    "    - like = object like array. By default ```like=None```\n",
    "\n",
    "- Using 'reshape()' to shape rthe structure of the array. \n",
    "\n",
    "In this case, we have given, ```b=np.arange(30).reshape(3,10)``` , that means, the values 1 to 30 will be stored in an array 'b' having 3 rows and 10 columns."
   ]
  },
  {
   "cell_type": "code",
   "execution_count": 147,
   "metadata": {},
   "outputs": [
    {
     "name": "stdout",
     "output_type": "stream",
     "text": [
      "[[ 0  1  2  3  4  5  6  7  8  9]\n",
      " [10 11 12 13 14 15 16 17 18 19]\n",
      " [20 21 22 23 24 25 26 27 28 29]]\n"
     ]
    }
   ],
   "source": [
    "b=np.arange(30).reshape(3,10) #np.arange( )\n",
    "print(b)"
   ]
  }
 ],
 "metadata": {
  "kernelspec": {
   "display_name": "Python 3.9.0 64-bit",
   "language": "python",
   "name": "python3"
  },
  "language_info": {
   "codemirror_mode": {
    "name": "ipython",
    "version": 3
   },
   "file_extension": ".py",
   "mimetype": "text/x-python",
   "name": "python",
   "nbconvert_exporter": "python",
   "pygments_lexer": "ipython3",
   "version": "3.9.0"
  },
  "orig_nbformat": 4,
  "vscode": {
   "interpreter": {
    "hash": "d22032a167c0ee2ffa5f8defa2e72c3f9c2cb16fc51751d274c89d3e0a00993f"
   }
  }
 },
 "nbformat": 4,
 "nbformat_minor": 2
}
